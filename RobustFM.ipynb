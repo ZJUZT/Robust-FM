{
 "cells": [
  {
   "cell_type": "code",
   "execution_count": 3,
   "metadata": {
    "ExecuteTime": {
     "end_time": "2017-06-19T15:54:54.020855Z",
     "start_time": "2017-06-19T15:54:53.665998Z"
    }
   },
   "outputs": [
    {
     "name": "stdout",
     "output_type": "stream",
     "text": [
      "________________________________________________________________________________\n",
      "[Memory] Calling __main__-F%3A-Github-Robust-FM-__ipython-input__.get_data...\n",
      "get_data('data/a1a/a1a.train')\n",
      "_________________________________________________________get_data - 0.2s, 0.0min\n"
     ]
    }
   ],
   "source": [
    "# load data\n",
    "from sklearn.externals.joblib import Memory\n",
    "from sklearn.datasets import load_svmlight_file\n",
    "mem = Memory('./mycache')\n",
    "\n",
    "@mem.cache\n",
    "def get_data(file_path):\n",
    "    data = load_svmlight_file(file_path)\n",
    "    return data\n",
    "\n",
    "# classification task\n",
    "# a1a\n",
    "a1a_train = 'data/a1a/a1a.train'\n",
    "a1a_test = 'data/a1a/a1a.test'\n",
    "data = get_data(a1a_train)"
   ]
  }
 ],
 "metadata": {
  "kernelspec": {
   "display_name": "Python 3",
   "language": "python",
   "name": "python3"
  },
  "language_info": {
   "codemirror_mode": {
    "name": "ipython",
    "version": 3
   },
   "file_extension": ".py",
   "mimetype": "text/x-python",
   "name": "python",
   "nbconvert_exporter": "python",
   "pygments_lexer": "ipython3",
   "version": "3.6.1"
  }
 },
 "nbformat": 4,
 "nbformat_minor": 2
}
